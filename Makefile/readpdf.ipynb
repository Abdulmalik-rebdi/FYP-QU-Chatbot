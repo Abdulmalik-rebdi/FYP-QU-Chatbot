{
 "cells": [
  {
   "cell_type": "code",
   "execution_count": 194,
   "metadata": {},
   "outputs": [
    {
     "data": {
      "text/plain": [
       "'c:\\\\Users\\\\Abdul\\\\Anaconda3'"
      ]
     },
     "execution_count": 194,
     "metadata": {},
     "output_type": "execute_result"
    }
   ],
   "source": [
    "import os\n",
    "import sys\n",
    "os.path.dirname(sys.executable)"
   ]
  },
  {
   "cell_type": "code",
   "execution_count": 195,
   "metadata": {},
   "outputs": [],
   "source": [
    "# to transfer arabic number to english \n",
    "import pyarabic.trans"
   ]
  },
  {
   "cell_type": "code",
   "execution_count": 196,
   "metadata": {},
   "outputs": [],
   "source": [
    "import pandas as pd\n",
    "import numpy as np\n",
    "import tabula"
   ]
  },
  {
   "cell_type": "code",
   "execution_count": 197,
   "metadata": {},
   "outputs": [],
   "source": [
    "\n",
    "\n",
    "# # convert PDF into CSV file\n",
    "tabula.convert_into(\"../data/class.pdf\", \"../data/output.csv\", output_format=\"csv\", pages='all')\n"
   ]
  },
  {
   "cell_type": "code",
   "execution_count": 198,
   "metadata": {},
   "outputs": [],
   "source": [
    "# pd.set_option('display.max_rows', None)\n"
   ]
  },
  {
   "cell_type": "markdown",
   "metadata": {},
   "source": [
    "# dealing with the nulls "
   ]
  },
  {
   "cell_type": "code",
   "execution_count": 199,
   "metadata": {},
   "outputs": [],
   "source": [
    "df = pd.read_csv('../data/output.csv')"
   ]
  },
  {
   "cell_type": "code",
   "execution_count": 200,
   "metadata": {},
   "outputs": [],
   "source": [
    "df.dropna(subset=['Unnamed: 14'] , inplace=True)"
   ]
  },
  {
   "cell_type": "code",
   "execution_count": 201,
   "metadata": {},
   "outputs": [
    {
     "data": {
      "text/plain": [
       "(284, 17)"
      ]
     },
     "execution_count": 201,
     "metadata": {},
     "output_type": "execute_result"
    }
   ],
   "source": [
    "df.shape"
   ]
  },
  {
   "cell_type": "code",
   "execution_count": 202,
   "metadata": {},
   "outputs": [
    {
     "data": {
      "text/plain": [
       "فترة\\rالاختبار    141\n",
       "جاهزة               0\n",
       "المستفيد            0\n",
       "المحاضر             0\n",
       "القاعة              0\n",
       "الوقت               0\n",
       "المسجلين            0\n",
       "اعلى حد             0\n",
       "التسلسل             0\n",
       "النشاط              0\n",
       "المستوى             5\n",
       "س                   0\n",
       "اسم المقرر        279\n",
       "المقرر              0\n",
       "Unnamed: 14         0\n",
       "الشعب               5\n",
       "Unnamed: 16         5\n",
       "dtype: int64"
      ]
     },
     "execution_count": 202,
     "metadata": {},
     "output_type": "execute_result"
    }
   ],
   "source": [
    "df.isna().sum()"
   ]
  },
  {
   "cell_type": "code",
   "execution_count": 203,
   "metadata": {},
   "outputs": [
    {
     "data": {
      "text/plain": [
       "مبادئ لغات البرمجة               1\n",
       "المدخل إلى الثقافة الإسلامية     1\n",
       "الإسلام وبناء المجتمع            1\n",
       "النظام الاقتصادي في الإسلام      1\n",
       "أسس النظام السياسي في الإسلام    1\n",
       "Name: اسم المقرر, dtype: int64"
      ]
     },
     "execution_count": 203,
     "metadata": {},
     "output_type": "execute_result"
    }
   ],
   "source": [
    "df['اسم المقرر'].value_counts()"
   ]
  },
  {
   "cell_type": "code",
   "execution_count": 204,
   "metadata": {},
   "outputs": [
    {
     "data": {
      "text/html": [
       "<div>\n",
       "<style scoped>\n",
       "    .dataframe tbody tr th:only-of-type {\n",
       "        vertical-align: middle;\n",
       "    }\n",
       "\n",
       "    .dataframe tbody tr th {\n",
       "        vertical-align: top;\n",
       "    }\n",
       "\n",
       "    .dataframe thead th {\n",
       "        text-align: right;\n",
       "    }\n",
       "</style>\n",
       "<table border=\"1\" class=\"dataframe\">\n",
       "  <thead>\n",
       "    <tr style=\"text-align: right;\">\n",
       "      <th></th>\n",
       "      <th>فترة\\rالاختبار</th>\n",
       "      <th>جاهزة</th>\n",
       "      <th>المستفيد</th>\n",
       "      <th>المحاضر</th>\n",
       "      <th>القاعة</th>\n",
       "      <th>الوقت</th>\n",
       "      <th>المسجلين</th>\n",
       "      <th>اعلى حد</th>\n",
       "      <th>التسلسل</th>\n",
       "      <th>النشاط</th>\n",
       "      <th>المستوى</th>\n",
       "      <th>س</th>\n",
       "      <th>اسم المقرر</th>\n",
       "      <th>المقرر</th>\n",
       "      <th>Unnamed: 14</th>\n",
       "      <th>الشعب</th>\n",
       "      <th>Unnamed: 16</th>\n",
       "    </tr>\n",
       "  </thead>\n",
       "  <tbody>\n",
       "    <tr>\n",
       "      <th>1</th>\n",
       "      <td>١٢</td>\n",
       "      <td>نعم</td>\n",
       "      <td>٤٤</td>\n",
       "      <td>اسلام خان محمد نضرول</td>\n",
       "      <td>٣٠٤</td>\n",
       "      <td>١١:١٠ ص</td>\n",
       "      <td>٠٩:٤٥ ص</td>\n",
       "      <td>١</td>\n",
       "      <td>٣٧</td>\n",
       "      <td>٥٠</td>\n",
       "      <td>١</td>\n",
       "      <td>نظري</td>\n",
       "      <td>NaN</td>\n",
       "      <td>٣</td>\n",
       "      <td>حساب التكامل</td>\n",
       "      <td>MATH١١٥</td>\n",
       "      <td>٨٤٦</td>\n",
       "    </tr>\n",
       "    <tr>\n",
       "      <th>3</th>\n",
       "      <td>١٢</td>\n",
       "      <td>نعم</td>\n",
       "      <td>٤٤</td>\n",
       "      <td>اسلام خان محمد نضرول</td>\n",
       "      <td>٣٠٤</td>\n",
       "      <td>٠٩:١٥ ص</td>\n",
       "      <td>٠٨:٠٠ ص</td>\n",
       "      <td>٢ ١</td>\n",
       "      <td>٤٣</td>\n",
       "      <td>٥٠</td>\n",
       "      <td>٢</td>\n",
       "      <td>نظري</td>\n",
       "      <td>NaN</td>\n",
       "      <td>٣</td>\n",
       "      <td>حساب التكامل</td>\n",
       "      <td>MATH١١٥</td>\n",
       "      <td>٨٤٧</td>\n",
       "    </tr>\n",
       "    <tr>\n",
       "      <th>4</th>\n",
       "      <td>١٢</td>\n",
       "      <td>نعم</td>\n",
       "      <td>٤٤</td>\n",
       "      <td>اسلام خان محمد نضرول</td>\n",
       "      <td>٣٠٢</td>\n",
       "      <td>٠١:١٥ م</td>\n",
       "      <td>١٢:٠٠ م</td>\n",
       "      <td>٢</td>\n",
       "      <td>٢٨</td>\n",
       "      <td>٥٠</td>\n",
       "      <td>٣</td>\n",
       "      <td>نظري</td>\n",
       "      <td>NaN</td>\n",
       "      <td>٣</td>\n",
       "      <td>حساب التكامل</td>\n",
       "      <td>MATH١١٥</td>\n",
       "      <td>٨٤٨</td>\n",
       "    </tr>\n",
       "    <tr>\n",
       "      <th>6</th>\n",
       "      <td>١٢</td>\n",
       "      <td>لا</td>\n",
       "      <td>٤٤</td>\n",
       "      <td>لم يحدد من الكلية</td>\n",
       "      <td>لم تحدد من الكلية</td>\n",
       "      <td>١١:١٠ ص</td>\n",
       "      <td>٠٩:٤٥ ص</td>\n",
       "      <td>١</td>\n",
       "      <td>٠</td>\n",
       "      <td>٤٠</td>\n",
       "      <td>٤</td>\n",
       "      <td>نظري</td>\n",
       "      <td>NaN</td>\n",
       "      <td>٣</td>\n",
       "      <td>حساب التكامل</td>\n",
       "      <td>MATH١١٥</td>\n",
       "      <td>٢٢٧٨</td>\n",
       "    </tr>\n",
       "    <tr>\n",
       "      <th>8</th>\n",
       "      <td>١٢</td>\n",
       "      <td>لا</td>\n",
       "      <td>٤٤</td>\n",
       "      <td>لم يحدد من الكلية</td>\n",
       "      <td>لم تحدد من الكلية</td>\n",
       "      <td>٠٩:١٥ ص</td>\n",
       "      <td>٠٨:٠٠ ص</td>\n",
       "      <td>٢ ١</td>\n",
       "      <td>٠</td>\n",
       "      <td>٤٠</td>\n",
       "      <td>٥</td>\n",
       "      <td>نظري</td>\n",
       "      <td>NaN</td>\n",
       "      <td>٣</td>\n",
       "      <td>حساب التكامل</td>\n",
       "      <td>MATH١١٥</td>\n",
       "      <td>٢٢٧٩</td>\n",
       "    </tr>\n",
       "    <tr>\n",
       "      <th>9</th>\n",
       "      <td>١٢</td>\n",
       "      <td>لا</td>\n",
       "      <td>٤٤</td>\n",
       "      <td>لم يحدد من الكلية</td>\n",
       "      <td>لم تحدد من الكلية</td>\n",
       "      <td>١٢:٤٥ م</td>\n",
       "      <td>١١:٣٠ ص</td>\n",
       "      <td>١</td>\n",
       "      <td>٠</td>\n",
       "      <td>٤٠</td>\n",
       "      <td>٦</td>\n",
       "      <td>نظري</td>\n",
       "      <td>NaN</td>\n",
       "      <td>٣</td>\n",
       "      <td>حساب التكامل</td>\n",
       "      <td>MATH١١٥</td>\n",
       "      <td>٢٢٨٠</td>\n",
       "    </tr>\n",
       "    <tr>\n",
       "      <th>11</th>\n",
       "      <td>١٢</td>\n",
       "      <td>نعم</td>\n",
       "      <td>٤٤</td>\n",
       "      <td>انور حسين حسين ساديال</td>\n",
       "      <td>٣٠٣</td>\n",
       "      <td>١١:٠٠ ص</td>\n",
       "      <td>٠٩:٤٥ ص</td>\n",
       "      <td>٢ ١</td>\n",
       "      <td>٣٧</td>\n",
       "      <td>٥٠</td>\n",
       "      <td>١</td>\n",
       "      <td>نظري</td>\n",
       "      <td>NaN</td>\n",
       "      <td>٣</td>\n",
       "      <td>الجبر الخطي والحساب متعدد المتغيرات</td>\n",
       "      <td>MATH١١٦</td>\n",
       "      <td>٨٤٩</td>\n",
       "    </tr>\n",
       "    <tr>\n",
       "      <th>12</th>\n",
       "      <td>١٢</td>\n",
       "      <td>نعم</td>\n",
       "      <td>٤٤</td>\n",
       "      <td>انور حسين حسين ساديال</td>\n",
       "      <td>٢٠١</td>\n",
       "      <td>٠٩:١٥ ص</td>\n",
       "      <td>٠٨:٠٠ ص</td>\n",
       "      <td>٢ ١</td>\n",
       "      <td>١٩</td>\n",
       "      <td>٥٠</td>\n",
       "      <td>٢</td>\n",
       "      <td>نظري</td>\n",
       "      <td>NaN</td>\n",
       "      <td>٣</td>\n",
       "      <td>الجبر الخطي والحساب متعدد المتغيرات</td>\n",
       "      <td>MATH١١٦</td>\n",
       "      <td>٨٥٠</td>\n",
       "    </tr>\n",
       "    <tr>\n",
       "      <th>13</th>\n",
       "      <td>١٢</td>\n",
       "      <td>نعم</td>\n",
       "      <td>٤٤</td>\n",
       "      <td>انور حسين حسين ساديال</td>\n",
       "      <td>٢٠٣</td>\n",
       "      <td>٠٤:١٥ م</td>\n",
       "      <td>٠٣:٠٠ م</td>\n",
       "      <td>١</td>\n",
       "      <td>١١</td>\n",
       "      <td>٥٠</td>\n",
       "      <td>٣</td>\n",
       "      <td>نظري</td>\n",
       "      <td>NaN</td>\n",
       "      <td>٣</td>\n",
       "      <td>الجبر الخطي والحساب متعدد المتغيرات</td>\n",
       "      <td>MATH١١٦</td>\n",
       "      <td>٨٥١</td>\n",
       "    </tr>\n",
       "    <tr>\n",
       "      <th>15</th>\n",
       "      <td>١٢</td>\n",
       "      <td>لا</td>\n",
       "      <td>٤٤</td>\n",
       "      <td>لم يحدد من الكلية</td>\n",
       "      <td>لم تحدد من الكلية</td>\n",
       "      <td>١١:٠٠ ص</td>\n",
       "      <td>٠٩:٤٥ ص</td>\n",
       "      <td>٢ ١</td>\n",
       "      <td>٠</td>\n",
       "      <td>٤٠</td>\n",
       "      <td>٤</td>\n",
       "      <td>نظري</td>\n",
       "      <td>NaN</td>\n",
       "      <td>٣</td>\n",
       "      <td>الجبر الخطي والحساب متعدد المتغيرات</td>\n",
       "      <td>MATH١١٦</td>\n",
       "      <td>٢٢٨١</td>\n",
       "    </tr>\n",
       "  </tbody>\n",
       "</table>\n",
       "</div>"
      ],
      "text/plain": [
       "   فترة\\rالاختبار جاهزة المستفيد                المحاضر             القاعة  \\\n",
       "1              ١٢   نعم       ٤٤   اسلام خان محمد نضرول                ٣٠٤   \n",
       "3              ١٢   نعم       ٤٤   اسلام خان محمد نضرول                ٣٠٤   \n",
       "4              ١٢   نعم       ٤٤   اسلام خان محمد نضرول                ٣٠٢   \n",
       "6              ١٢    لا       ٤٤      لم يحدد من الكلية  لم تحدد من الكلية   \n",
       "8              ١٢    لا       ٤٤      لم يحدد من الكلية  لم تحدد من الكلية   \n",
       "9              ١٢    لا       ٤٤      لم يحدد من الكلية  لم تحدد من الكلية   \n",
       "11             ١٢   نعم       ٤٤  انور حسين حسين ساديال                ٣٠٣   \n",
       "12             ١٢   نعم       ٤٤  انور حسين حسين ساديال                ٢٠١   \n",
       "13             ١٢   نعم       ٤٤  انور حسين حسين ساديال                ٢٠٣   \n",
       "15             ١٢    لا       ٤٤      لم يحدد من الكلية  لم تحدد من الكلية   \n",
       "\n",
       "      الوقت المسجلين اعلى حد التسلسل النشاط المستوى     س اسم المقرر المقرر  \\\n",
       "1   ١١:١٠ ص  ٠٩:٤٥ ص       ١      ٣٧     ٥٠       ١  نظري        NaN      ٣   \n",
       "3   ٠٩:١٥ ص  ٠٨:٠٠ ص     ٢ ١      ٤٣     ٥٠       ٢  نظري        NaN      ٣   \n",
       "4   ٠١:١٥ م  ١٢:٠٠ م       ٢      ٢٨     ٥٠       ٣  نظري        NaN      ٣   \n",
       "6   ١١:١٠ ص  ٠٩:٤٥ ص       ١       ٠     ٤٠       ٤  نظري        NaN      ٣   \n",
       "8   ٠٩:١٥ ص  ٠٨:٠٠ ص     ٢ ١       ٠     ٤٠       ٥  نظري        NaN      ٣   \n",
       "9   ١٢:٤٥ م  ١١:٣٠ ص       ١       ٠     ٤٠       ٦  نظري        NaN      ٣   \n",
       "11  ١١:٠٠ ص  ٠٩:٤٥ ص     ٢ ١      ٣٧     ٥٠       ١  نظري        NaN      ٣   \n",
       "12  ٠٩:١٥ ص  ٠٨:٠٠ ص     ٢ ١      ١٩     ٥٠       ٢  نظري        NaN      ٣   \n",
       "13  ٠٤:١٥ م  ٠٣:٠٠ م       ١      ١١     ٥٠       ٣  نظري        NaN      ٣   \n",
       "15  ١١:٠٠ ص  ٠٩:٤٥ ص     ٢ ١       ٠     ٤٠       ٤  نظري        NaN      ٣   \n",
       "\n",
       "                            Unnamed: 14    الشعب Unnamed: 16  \n",
       "1                          حساب التكامل  MATH١١٥         ٨٤٦  \n",
       "3                          حساب التكامل  MATH١١٥         ٨٤٧  \n",
       "4                          حساب التكامل  MATH١١٥         ٨٤٨  \n",
       "6                          حساب التكامل  MATH١١٥        ٢٢٧٨  \n",
       "8                          حساب التكامل  MATH١١٥        ٢٢٧٩  \n",
       "9                          حساب التكامل  MATH١١٥        ٢٢٨٠  \n",
       "11  الجبر الخطي والحساب متعدد المتغيرات  MATH١١٦         ٨٤٩  \n",
       "12  الجبر الخطي والحساب متعدد المتغيرات  MATH١١٦         ٨٥٠  \n",
       "13  الجبر الخطي والحساب متعدد المتغيرات  MATH١١٦         ٨٥١  \n",
       "15  الجبر الخطي والحساب متعدد المتغيرات  MATH١١٦        ٢٢٨١  "
      ]
     },
     "execution_count": 204,
     "metadata": {},
     "output_type": "execute_result"
    }
   ],
   "source": [
    "df[df['Unnamed: 14'].notna()].head(10)"
   ]
  },
  {
   "cell_type": "code",
   "execution_count": 205,
   "metadata": {},
   "outputs": [
    {
     "data": {
      "text/html": [
       "<div>\n",
       "<style scoped>\n",
       "    .dataframe tbody tr th:only-of-type {\n",
       "        vertical-align: middle;\n",
       "    }\n",
       "\n",
       "    .dataframe tbody tr th {\n",
       "        vertical-align: top;\n",
       "    }\n",
       "\n",
       "    .dataframe thead th {\n",
       "        text-align: right;\n",
       "    }\n",
       "</style>\n",
       "<table border=\"1\" class=\"dataframe\">\n",
       "  <thead>\n",
       "    <tr style=\"text-align: right;\">\n",
       "      <th></th>\n",
       "      <th>فترة\\rالاختبار</th>\n",
       "      <th>جاهزة</th>\n",
       "      <th>المستفيد</th>\n",
       "      <th>المحاضر</th>\n",
       "      <th>القاعة</th>\n",
       "      <th>الوقت</th>\n",
       "      <th>المسجلين</th>\n",
       "      <th>اعلى حد</th>\n",
       "      <th>التسلسل</th>\n",
       "      <th>النشاط</th>\n",
       "      <th>المستوى</th>\n",
       "      <th>س</th>\n",
       "      <th>اسم المقرر</th>\n",
       "      <th>المقرر</th>\n",
       "      <th>Unnamed: 14</th>\n",
       "      <th>الشعب</th>\n",
       "      <th>Unnamed: 16</th>\n",
       "    </tr>\n",
       "  </thead>\n",
       "  <tbody>\n",
       "    <tr>\n",
       "      <th>71</th>\n",
       "      <td>NaN</td>\n",
       "      <td>نعم</td>\n",
       "      <td>٤٤</td>\n",
       "      <td>ابراهيم جديد سعود العنزى</td>\n",
       "      <td>لم تحدد من الكلية</td>\n",
       "      <td>لم يحدد من الكلية</td>\n",
       "      <td>٣٤</td>\n",
       "      <td>٤٠</td>\n",
       "      <td>١</td>\n",
       "      <td>عملي</td>\n",
       "      <td>NaN</td>\n",
       "      <td>٣</td>\n",
       "      <td>مبادئ لغات البرمجة</td>\n",
       "      <td>CS  ٢١٣</td>\n",
       "      <td>٧٣٢</td>\n",
       "      <td>NaN</td>\n",
       "      <td>NaN</td>\n",
       "    </tr>\n",
       "    <tr>\n",
       "      <th>354</th>\n",
       "      <td>١</td>\n",
       "      <td>نعم</td>\n",
       "      <td>٤٤</td>\n",
       "      <td>نائل محمد ابراهيم قرقز</td>\n",
       "      <td>لم تحدد من الكلية</td>\n",
       "      <td>لم يحدد من الكلية</td>\n",
       "      <td>١٠٠</td>\n",
       "      <td>١٠٠</td>\n",
       "      <td>٣</td>\n",
       "      <td>نظري</td>\n",
       "      <td>NaN</td>\n",
       "      <td>٢</td>\n",
       "      <td>المدخل إلى الثقافة الإسلامية</td>\n",
       "      <td>IC  ١٠١</td>\n",
       "      <td>٧٨٣</td>\n",
       "      <td>NaN</td>\n",
       "      <td>NaN</td>\n",
       "    </tr>\n",
       "    <tr>\n",
       "      <th>355</th>\n",
       "      <td>٢</td>\n",
       "      <td>نعم</td>\n",
       "      <td>٤٤</td>\n",
       "      <td>نائل محمد ابراهيم قرقز</td>\n",
       "      <td>لم تحدد من الكلية</td>\n",
       "      <td>لم يحدد من الكلية</td>\n",
       "      <td>١٢٩</td>\n",
       "      <td>١٠٠</td>\n",
       "      <td>٢</td>\n",
       "      <td>نظري</td>\n",
       "      <td>NaN</td>\n",
       "      <td>٢</td>\n",
       "      <td>الإسلام وبناء المجتمع</td>\n",
       "      <td>IC  ١٠٢</td>\n",
       "      <td>٧٨٤</td>\n",
       "      <td>NaN</td>\n",
       "      <td>NaN</td>\n",
       "    </tr>\n",
       "    <tr>\n",
       "      <th>356</th>\n",
       "      <td>٥</td>\n",
       "      <td>نعم</td>\n",
       "      <td>٤٤</td>\n",
       "      <td>حمد عبدالله حمد الصقعبي</td>\n",
       "      <td>لم تحدد من الكلية</td>\n",
       "      <td>لم يحدد من الكلية</td>\n",
       "      <td>٠</td>\n",
       "      <td>١٠٠</td>\n",
       "      <td>٤</td>\n",
       "      <td>نظري</td>\n",
       "      <td>NaN</td>\n",
       "      <td>٢</td>\n",
       "      <td>النظام الاقتصادي في الإسلام</td>\n",
       "      <td>IC  ١٠٣</td>\n",
       "      <td>٧٨٥</td>\n",
       "      <td>NaN</td>\n",
       "      <td>NaN</td>\n",
       "    </tr>\n",
       "    <tr>\n",
       "      <th>359</th>\n",
       "      <td>٢</td>\n",
       "      <td>نعم</td>\n",
       "      <td>٤٤</td>\n",
       "      <td>عادل عبدالله صالح الشبعان</td>\n",
       "      <td>لم تحدد من الكلية</td>\n",
       "      <td>لم يحدد من الكلية</td>\n",
       "      <td>٠</td>\n",
       "      <td>١٠٠</td>\n",
       "      <td>٥٣</td>\n",
       "      <td>نظري</td>\n",
       "      <td>NaN</td>\n",
       "      <td>٢</td>\n",
       "      <td>أسس النظام السياسي في الإسلام</td>\n",
       "      <td>IC  ١٠٤</td>\n",
       "      <td>٥٢٨٤</td>\n",
       "      <td>NaN</td>\n",
       "      <td>NaN</td>\n",
       "    </tr>\n",
       "  </tbody>\n",
       "</table>\n",
       "</div>"
      ],
      "text/plain": [
       "    فترة\\rالاختبار جاهزة المستفيد                    المحاضر  \\\n",
       "71             NaN   نعم       ٤٤   ابراهيم جديد سعود العنزى   \n",
       "354              ١   نعم       ٤٤     نائل محمد ابراهيم قرقز   \n",
       "355              ٢   نعم       ٤٤     نائل محمد ابراهيم قرقز   \n",
       "356              ٥   نعم       ٤٤    حمد عبدالله حمد الصقعبي   \n",
       "359              ٢   نعم       ٤٤  عادل عبدالله صالح الشبعان   \n",
       "\n",
       "                القاعة              الوقت المسجلين اعلى حد التسلسل النشاط  \\\n",
       "71   لم تحدد من الكلية  لم يحدد من الكلية       ٣٤      ٤٠       ١   عملي   \n",
       "354  لم تحدد من الكلية  لم يحدد من الكلية      ١٠٠     ١٠٠       ٣   نظري   \n",
       "355  لم تحدد من الكلية  لم يحدد من الكلية      ١٢٩     ١٠٠       ٢   نظري   \n",
       "356  لم تحدد من الكلية  لم يحدد من الكلية        ٠     ١٠٠       ٤   نظري   \n",
       "359  لم تحدد من الكلية  لم يحدد من الكلية        ٠     ١٠٠      ٥٣   نظري   \n",
       "\n",
       "    المستوى  س                     اسم المقرر   المقرر Unnamed: 14 الشعب  \\\n",
       "71      NaN  ٣             مبادئ لغات البرمجة  CS  ٢١٣         ٧٣٢   NaN   \n",
       "354     NaN  ٢   المدخل إلى الثقافة الإسلامية  IC  ١٠١         ٧٨٣   NaN   \n",
       "355     NaN  ٢          الإسلام وبناء المجتمع  IC  ١٠٢         ٧٨٤   NaN   \n",
       "356     NaN  ٢    النظام الاقتصادي في الإسلام  IC  ١٠٣         ٧٨٥   NaN   \n",
       "359     NaN  ٢  أسس النظام السياسي في الإسلام  IC  ١٠٤        ٥٢٨٤   NaN   \n",
       "\n",
       "    Unnamed: 16  \n",
       "71          NaN  \n",
       "354         NaN  \n",
       "355         NaN  \n",
       "356         NaN  \n",
       "359         NaN  "
      ]
     },
     "execution_count": 205,
     "metadata": {},
     "output_type": "execute_result"
    }
   ],
   "source": [
    "df[df['اسم المقرر'].notna()]"
   ]
  },
  {
   "cell_type": "code",
   "execution_count": 206,
   "metadata": {},
   "outputs": [],
   "source": [
    "df['index'] = df.index"
   ]
  },
  {
   "cell_type": "code",
   "execution_count": 207,
   "metadata": {},
   "outputs": [],
   "source": [
    "list1 = list(df[df['اسم المقرر'].notna()]['index'])"
   ]
  },
  {
   "cell_type": "code",
   "execution_count": 208,
   "metadata": {},
   "outputs": [
    {
     "name": "stderr",
     "output_type": "stream",
     "text": [
      "C:\\Users\\Abdul\\AppData\\Local\\Temp\\ipykernel_6380\\2268249331.py:3: SettingWithCopyWarning: \n",
      "A value is trying to be set on a copy of a slice from a DataFrame\n",
      "\n",
      "See the caveats in the documentation: https://pandas.pydata.org/pandas-docs/stable/user_guide/indexing.html#returning-a-view-versus-a-copy\n",
      "  df['Unnamed: 16'][index] = row['Unnamed: 14']\n",
      "C:\\Users\\Abdul\\AppData\\Local\\Temp\\ipykernel_6380\\2268249331.py:4: SettingWithCopyWarning: \n",
      "A value is trying to be set on a copy of a slice from a DataFrame\n",
      "\n",
      "See the caveats in the documentation: https://pandas.pydata.org/pandas-docs/stable/user_guide/indexing.html#returning-a-view-versus-a-copy\n",
      "  df['الشعب'][index] = row['المقرر']\n",
      "C:\\Users\\Abdul\\AppData\\Local\\Temp\\ipykernel_6380\\2268249331.py:5: SettingWithCopyWarning: \n",
      "A value is trying to be set on a copy of a slice from a DataFrame\n",
      "\n",
      "See the caveats in the documentation: https://pandas.pydata.org/pandas-docs/stable/user_guide/indexing.html#returning-a-view-versus-a-copy\n",
      "  df['Unnamed: 14'][index] = row['اسم المقرر']\n",
      "C:\\Users\\Abdul\\AppData\\Local\\Temp\\ipykernel_6380\\2268249331.py:6: SettingWithCopyWarning: \n",
      "A value is trying to be set on a copy of a slice from a DataFrame\n",
      "\n",
      "See the caveats in the documentation: https://pandas.pydata.org/pandas-docs/stable/user_guide/indexing.html#returning-a-view-versus-a-copy\n",
      "  df['المقرر'][index]  = row['س']\n",
      "C:\\Users\\Abdul\\AppData\\Local\\Temp\\ipykernel_6380\\2268249331.py:7: SettingWithCopyWarning: \n",
      "A value is trying to be set on a copy of a slice from a DataFrame\n",
      "\n",
      "See the caveats in the documentation: https://pandas.pydata.org/pandas-docs/stable/user_guide/indexing.html#returning-a-view-versus-a-copy\n",
      "  df['اسم المقرر'][index] = row['المستوى']\n",
      "C:\\Users\\Abdul\\AppData\\Local\\Temp\\ipykernel_6380\\2268249331.py:8: SettingWithCopyWarning: \n",
      "A value is trying to be set on a copy of a slice from a DataFrame\n",
      "\n",
      "See the caveats in the documentation: https://pandas.pydata.org/pandas-docs/stable/user_guide/indexing.html#returning-a-view-versus-a-copy\n",
      "  df['س'][index]= row['النشاط']\n",
      "C:\\Users\\Abdul\\AppData\\Local\\Temp\\ipykernel_6380\\2268249331.py:9: SettingWithCopyWarning: \n",
      "A value is trying to be set on a copy of a slice from a DataFrame\n",
      "\n",
      "See the caveats in the documentation: https://pandas.pydata.org/pandas-docs/stable/user_guide/indexing.html#returning-a-view-versus-a-copy\n",
      "  df['المستوى'][index] = row['التسلسل']\n",
      "C:\\Users\\Abdul\\AppData\\Local\\Temp\\ipykernel_6380\\2268249331.py:10: SettingWithCopyWarning: \n",
      "A value is trying to be set on a copy of a slice from a DataFrame\n",
      "\n",
      "See the caveats in the documentation: https://pandas.pydata.org/pandas-docs/stable/user_guide/indexing.html#returning-a-view-versus-a-copy\n",
      "  df['النشاط'][index] = row['اعلى حد']\n",
      "C:\\Users\\Abdul\\AppData\\Local\\Temp\\ipykernel_6380\\2268249331.py:11: SettingWithCopyWarning: \n",
      "A value is trying to be set on a copy of a slice from a DataFrame\n",
      "\n",
      "See the caveats in the documentation: https://pandas.pydata.org/pandas-docs/stable/user_guide/indexing.html#returning-a-view-versus-a-copy\n",
      "  df['التسلسل'][index] = row['المسجلين']\n",
      "C:\\Users\\Abdul\\AppData\\Local\\Temp\\ipykernel_6380\\2268249331.py:12: SettingWithCopyWarning: \n",
      "A value is trying to be set on a copy of a slice from a DataFrame\n",
      "\n",
      "See the caveats in the documentation: https://pandas.pydata.org/pandas-docs/stable/user_guide/indexing.html#returning-a-view-versus-a-copy\n",
      "  df['اعلى حد'][index] = 'لم يحدد من الكلية\t'\n",
      "C:\\Users\\Abdul\\AppData\\Local\\Temp\\ipykernel_6380\\2268249331.py:13: SettingWithCopyWarning: \n",
      "A value is trying to be set on a copy of a slice from a DataFrame\n",
      "\n",
      "See the caveats in the documentation: https://pandas.pydata.org/pandas-docs/stable/user_guide/indexing.html#returning-a-view-versus-a-copy\n",
      "  df['المسجلين'][index] = 'لم يحدد من الكلية'\n"
     ]
    }
   ],
   "source": [
    "for index, row in df.iterrows():\n",
    "    if index in list1 : \n",
    "        df['Unnamed: 16'][index] = row['Unnamed: 14']\n",
    "        df['الشعب'][index] = row['المقرر'] \n",
    "        df['Unnamed: 14'][index] = row['اسم المقرر']\n",
    "        df['المقرر'][index]  = row['س']\n",
    "        df['اسم المقرر'][index] = row['المستوى']\n",
    "        df['س'][index]= row['النشاط']\n",
    "        df['المستوى'][index] = row['التسلسل']\n",
    "        df['النشاط'][index] = row['اعلى حد']\n",
    "        df['التسلسل'][index] = row['المسجلين']\n",
    "        df['اعلى حد'][index] = 'لم يحدد من الكلية\t'\n",
    "        df['المسجلين'][index] = 'لم يحدد من الكلية'\n",
    "        "
   ]
  },
  {
   "cell_type": "code",
   "execution_count": 209,
   "metadata": {},
   "outputs": [
    {
     "data": {
      "text/plain": [
       "فترة\\rالاختبار    141\n",
       "جاهزة               0\n",
       "المستفيد            0\n",
       "المحاضر             0\n",
       "القاعة              0\n",
       "الوقت               0\n",
       "المسجلين            0\n",
       "اعلى حد             0\n",
       "التسلسل             0\n",
       "النشاط              0\n",
       "المستوى             0\n",
       "س                   0\n",
       "اسم المقرر        284\n",
       "المقرر              0\n",
       "Unnamed: 14         0\n",
       "الشعب               0\n",
       "Unnamed: 16         0\n",
       "index               0\n",
       "dtype: int64"
      ]
     },
     "execution_count": 209,
     "metadata": {},
     "output_type": "execute_result"
    }
   ],
   "source": [
    "df.isna().sum()"
   ]
  },
  {
   "cell_type": "code",
   "execution_count": 210,
   "metadata": {},
   "outputs": [],
   "source": [
    "df.drop('اسم المقرر' , axis=1 , inplace=True)"
   ]
  },
  {
   "cell_type": "markdown",
   "metadata": {},
   "source": [
    "## rename columns"
   ]
  },
  {
   "cell_type": "code",
   "execution_count": 211,
   "metadata": {},
   "outputs": [],
   "source": [
    "col = list(df.columns)"
   ]
  },
  {
   "cell_type": "code",
   "execution_count": 212,
   "metadata": {},
   "outputs": [
    {
     "data": {
      "text/html": [
       "<div>\n",
       "<style scoped>\n",
       "    .dataframe tbody tr th:only-of-type {\n",
       "        vertical-align: middle;\n",
       "    }\n",
       "\n",
       "    .dataframe tbody tr th {\n",
       "        vertical-align: top;\n",
       "    }\n",
       "\n",
       "    .dataframe thead th {\n",
       "        text-align: right;\n",
       "    }\n",
       "</style>\n",
       "<table border=\"1\" class=\"dataframe\">\n",
       "  <thead>\n",
       "    <tr style=\"text-align: right;\">\n",
       "      <th></th>\n",
       "      <th>فترة\\rالاختبار</th>\n",
       "      <th>جاهزة</th>\n",
       "      <th>المستفيد</th>\n",
       "      <th>المحاضر</th>\n",
       "      <th>القاعة</th>\n",
       "      <th>الوقت</th>\n",
       "      <th>المسجلين</th>\n",
       "      <th>اعلى حد</th>\n",
       "      <th>التسلسل</th>\n",
       "      <th>النشاط</th>\n",
       "      <th>المستوى</th>\n",
       "      <th>س</th>\n",
       "      <th>المقرر</th>\n",
       "      <th>Unnamed: 14</th>\n",
       "      <th>الشعب</th>\n",
       "      <th>Unnamed: 16</th>\n",
       "      <th>index</th>\n",
       "    </tr>\n",
       "  </thead>\n",
       "  <tbody>\n",
       "    <tr>\n",
       "      <th>1</th>\n",
       "      <td>١٢</td>\n",
       "      <td>نعم</td>\n",
       "      <td>٤٤</td>\n",
       "      <td>اسلام خان محمد نضرول</td>\n",
       "      <td>٣٠٤</td>\n",
       "      <td>١١:١٠ ص</td>\n",
       "      <td>٠٩:٤٥ ص</td>\n",
       "      <td>١</td>\n",
       "      <td>٣٧</td>\n",
       "      <td>٥٠</td>\n",
       "      <td>١</td>\n",
       "      <td>نظري</td>\n",
       "      <td>٣</td>\n",
       "      <td>حساب التكامل</td>\n",
       "      <td>MATH١١٥</td>\n",
       "      <td>٨٤٦</td>\n",
       "      <td>1</td>\n",
       "    </tr>\n",
       "  </tbody>\n",
       "</table>\n",
       "</div>"
      ],
      "text/plain": [
       "  فترة\\rالاختبار جاهزة المستفيد               المحاضر القاعة    الوقت  \\\n",
       "1             ١٢   نعم       ٤٤  اسلام خان محمد نضرول    ٣٠٤  ١١:١٠ ص   \n",
       "\n",
       "  المسجلين اعلى حد التسلسل النشاط المستوى     س المقرر   Unnamed: 14    الشعب  \\\n",
       "1  ٠٩:٤٥ ص       ١      ٣٧     ٥٠       ١  نظري      ٣  حساب التكامل  MATH١١٥   \n",
       "\n",
       "  Unnamed: 16  index  \n",
       "1         ٨٤٦      1  "
      ]
     },
     "execution_count": 212,
     "metadata": {},
     "output_type": "execute_result"
    }
   ],
   "source": [
    "df.head(1)"
   ]
  },
  {
   "cell_type": "code",
   "execution_count": 213,
   "metadata": {},
   "outputs": [
    {
     "data": {
      "text/plain": [
       "'فترة\\rالاختبار'"
      ]
     },
     "execution_count": 213,
     "metadata": {},
     "output_type": "execute_result"
    }
   ],
   "source": [
    "col[0]"
   ]
  },
  {
   "cell_type": "code",
   "execution_count": 214,
   "metadata": {},
   "outputs": [],
   "source": [
    "# from re import T\n",
    "\n",
    "\n",
    "df = df.rename(columns={\"Unnamed: 16\": \"الشعبة\", \"الشعب\": \"المقرر\", \"Unnamed: 14\": \"اسم المقرر\", \"المقرر\": \"ساعات المقرر\", \"س\": \"1المستوى\", \"النشاط\": \"اعلى حد\", \"التسلسل\": \"المسجلين\", \"اعلى حد\": \"الايام\", \"المسجلين\": \"من\" , \"الوقت\": \"الى\"} )"
   ]
  },
  {
   "cell_type": "code",
   "execution_count": 215,
   "metadata": {},
   "outputs": [],
   "source": [
    "df = df.drop(columns=['index'])"
   ]
  },
  {
   "cell_type": "code",
   "execution_count": 216,
   "metadata": {},
   "outputs": [],
   "source": [
    "df = df.rename(columns={df.columns[10]:\"التسلسل\" ,df.columns[11] : 'النشاط'} )"
   ]
  },
  {
   "cell_type": "code",
   "execution_count": 217,
   "metadata": {},
   "outputs": [],
   "source": [
    "df = df.rename(columns={df.columns[0]:\"فتره\"} )"
   ]
  },
  {
   "cell_type": "code",
   "execution_count": 218,
   "metadata": {},
   "outputs": [],
   "source": [
    "# df"
   ]
  },
  {
   "cell_type": "code",
   "execution_count": 219,
   "metadata": {},
   "outputs": [
    {
     "data": {
      "text/plain": [
       "CS  ٤٩٨    15\n",
       "IT  ٤٩٨    15\n",
       "PHYS١١٦    12\n",
       "IT  ١٣١    12\n",
       "CS  ١٨١    12\n",
       "           ..\n",
       "COE ٤٩٢     1\n",
       "COE ٤٩٣     1\n",
       "CS  ٣١٥     1\n",
       "MATH٢١٨     1\n",
       "COE ٤٣٢     1\n",
       "Name: المقرر, Length: 99, dtype: int64"
      ]
     },
     "execution_count": 219,
     "metadata": {},
     "output_type": "execute_result"
    }
   ],
   "source": [
    "df['المقرر'].value_counts()"
   ]
  },
  {
   "cell_type": "code",
   "execution_count": 225,
   "metadata": {},
   "outputs": [],
   "source": [
    "for ind , row in df.iterrows() :\n",
    "    for i in df.columns :\n",
    "        try:\n",
    "            df[i][ind] = pyarabic.trans.normalize_digits(row[i])\n",
    "        except:\n",
    "            pass"
   ]
  },
  {
   "cell_type": "code",
   "execution_count": 230,
   "metadata": {},
   "outputs": [
    {
     "data": {
      "text/plain": [
       "فتره                               25\n",
       "جاهزة                             نعم\n",
       "المستفيد                           44\n",
       "المحاضر         صالح ناصر محمد السلمى\n",
       "القاعة                            103\n",
       "الى                           09:15 ص\n",
       "من                            08:00 ص\n",
       "الايام                            3 1\n",
       "المسجلين                           53\n",
       "اعلى حد                            50\n",
       "التسلسل                             1\n",
       "النشاط                           نظري\n",
       "ساعات المقرر                        3\n",
       "اسم المقرر         مفاهيم الخوارزميات\n",
       "المقرر                        CS  211\n",
       "الشعبة                            729\n",
       "Name: 67, dtype: object"
      ]
     },
     "execution_count": 230,
     "metadata": {},
     "output_type": "execute_result"
    }
   ],
   "source": []
  },
  {
   "cell_type": "code",
   "execution_count": 231,
   "metadata": {},
   "outputs": [
    {
     "data": {
      "text/plain": [
       "CS  498    15\n",
       "IT  498    15\n",
       "PHYS116    12\n",
       "IT  131    12\n",
       "CS  181    12\n",
       "           ..\n",
       "COE 492     1\n",
       "COE 493     1\n",
       "CS  315     1\n",
       "MATH218     1\n",
       "COE 432     1\n",
       "Name: المقرر, Length: 99, dtype: int64"
      ]
     },
     "execution_count": 231,
     "metadata": {},
     "output_type": "execute_result"
    }
   ],
   "source": [
    "df['المقرر'].value_counts()"
   ]
  },
  {
   "cell_type": "code",
   "execution_count": 232,
   "metadata": {},
   "outputs": [],
   "source": [
    "df.to_csv('../data/class.csv' , index=False)\n",
    "# "
   ]
  }
 ],
 "metadata": {
  "kernelspec": {
   "display_name": "Python 3.9.12 ('base')",
   "language": "python",
   "name": "python3"
  },
  "language_info": {
   "codemirror_mode": {
    "name": "ipython",
    "version": 3
   },
   "file_extension": ".py",
   "mimetype": "text/x-python",
   "name": "python",
   "nbconvert_exporter": "python",
   "pygments_lexer": "ipython3",
   "version": "3.9.12"
  },
  "orig_nbformat": 4,
  "vscode": {
   "interpreter": {
    "hash": "1ea3bb07a0ce5ed1cb811e695f7f6d18f9bc93ade77baa1d4759f2cca0adc160"
   }
  }
 },
 "nbformat": 4,
 "nbformat_minor": 2
}
