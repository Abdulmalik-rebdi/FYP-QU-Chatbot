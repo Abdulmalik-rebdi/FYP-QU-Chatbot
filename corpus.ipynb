{
 "cells": [
  {
   "cell_type": "code",
   "execution_count": 2,
   "metadata": {},
   "outputs": [],
   "source": [
    "from gensim.models import word2vec\n",
    "import tensorflow as tf\n",
    "from keras.preprocessing.text import Tokenizer\n",
    "from keras_preprocessing.sequence import pad_sequences\n",
    "from numpy import array\n",
    "import gensim\n",
    "from gensim.models import KeyedVectors\n",
    "import pandas as pd\n",
    "import numpy as np\n",
    "import gensim\n",
    "import re\n",
    "import spacy\n",
    "from scipy.spatial.distance import cosine"
   ]
  },
  {
   "cell_type": "code",
   "execution_count": 3,
   "metadata": {},
   "outputs": [],
   "source": [
    "import gensim\n",
    "import re\n",
    "import spacy\n",
    "\n",
    "# Clean/Normalize Arabic Text\n",
    "def clean_str(text):\n",
    "    search = [\"أ\",\"إ\",\"آ\",\"ة\",\"_\",\"-\",\"/\",\".\",\"،\",\" و \",\" يا \",'\"',\"ـ\",\"'\",\"ى\",\"\\\\\",'\\n', '\\t','\"','?','؟','!']\n",
    "    replace = [\"ا\",\"ا\",\"ا\",\"ه\",\" \",\" \",\"\",\"\",\"\",\" و\",\" يا\",\"\",\"\",\"\",\"ي\",\"\",' ', ' ',' ',' ? ',' ؟ ',' ! ']\n",
    "    \n",
    "    #remove tashkeel\n",
    "    p_tashkeel = re.compile(r'[\\u0617-\\u061A\\u064B-\\u0652]')\n",
    "    text = re.sub(p_tashkeel,\"\", text)\n",
    "    \n",
    "    #remove longation\n",
    "    p_longation = re.compile(r'(.)\\1+')\n",
    "    subst = r\"\\1\\1\"\n",
    "    text = re.sub(p_longation, subst, text)\n",
    "    \n",
    "    text = text.replace('وو', 'و')\n",
    "    text = text.replace('يي', 'ي')\n",
    "    text = text.replace('اا', 'ا')\n",
    "    \n",
    "    for i in range(0, len(search)):\n",
    "        text = text.replace(search[i], replace[i])\n",
    "    \n",
    "    #trim    \n",
    "    text = text.strip()\n",
    "\n",
    "    return text"
   ]
  },
  {
   "cell_type": "code",
   "execution_count": 4,
   "metadata": {},
   "outputs": [],
   "source": [
    "Qu = pd.read_excel('./data/Question.xlsx')\n",
    "df = pd.read_csv('./data/class.csv')"
   ]
  },
  {
   "cell_type": "code",
   "execution_count": 5,
   "metadata": {},
   "outputs": [
    {
     "data": {
      "text/plain": [
       "0               اين قاعة\n",
       "1             وين القاعه\n",
       "2        اين اجد القاعه \n",
       "3       اين مكان القاعه \n",
       "4         اين هي القاعه \n",
       "5               مين يدرس\n",
       "6             مين دكتور \n",
       "7            من هو دكتور\n",
       "8                من يدرس\n",
       "9              من محاضر \n",
       "10       متى تبدا محاضره\n",
       "11           متى محاضره \n",
       "12              متى درس \n",
       "13       متى اختبار مادة\n",
       "14            متى اختبار\n",
       "15       متى موعد اختبار\n",
       "16            اقدر انزل \n",
       "17       هل استطيع تنزيل\n",
       "18          هل اقدر انزل\n",
       "19         هل اقدر اسجل \n",
       "20    هل من الممكن تسجيل\n",
       "Name: سوال, dtype: object"
      ]
     },
     "execution_count": 5,
     "metadata": {},
     "output_type": "execute_result"
    }
   ],
   "source": [
    "Qu['سوال']"
   ]
  },
  {
   "cell_type": "code",
   "execution_count": 6,
   "metadata": {},
   "outputs": [],
   "source": [
    "trylist = list(df['المقرر'].unique())"
   ]
  },
  {
   "cell_type": "code",
   "execution_count": 7,
   "metadata": {},
   "outputs": [],
   "source": [
    "def split_digits_and_words(s):\n",
    "    result = []\n",
    "    X = 0\n",
    "    for c in s:\n",
    "        if c.isdigit():\n",
    "            if X ==1 :\n",
    "                X = 0 \n",
    "                result.append(\" \")\n",
    "            result.append(int(c))\n",
    "        else:\n",
    "            result.append(c)\n",
    "            X = 1 \n",
    "            \n",
    "    s = ''.join(str(x) for x in result)\n",
    "\n",
    "    return s\n",
    "\n",
    "\n",
    "\n",
    "\n"
   ]
  },
  {
   "cell_type": "code",
   "execution_count": 8,
   "metadata": {},
   "outputs": [],
   "source": [
    "for i in range(len(trylist)):\n",
    "    \n",
    "    trylist[i] = split_digits_and_words(trylist[i])"
   ]
  },
  {
   "cell_type": "code",
   "execution_count": 9,
   "metadata": {},
   "outputs": [
    {
     "data": {
      "text/plain": [
       "'MATH 115'"
      ]
     },
     "execution_count": 9,
     "metadata": {},
     "output_type": "execute_result"
    }
   ],
   "source": [
    "trylist[0]"
   ]
  },
  {
   "cell_type": "code",
   "execution_count": 10,
   "metadata": {},
   "outputs": [
    {
     "data": {
      "text/html": [
       "<div>\n",
       "<style scoped>\n",
       "    .dataframe tbody tr th:only-of-type {\n",
       "        vertical-align: middle;\n",
       "    }\n",
       "\n",
       "    .dataframe tbody tr th {\n",
       "        vertical-align: top;\n",
       "    }\n",
       "\n",
       "    .dataframe thead th {\n",
       "        text-align: right;\n",
       "    }\n",
       "</style>\n",
       "<table border=\"1\" class=\"dataframe\">\n",
       "  <thead>\n",
       "    <tr style=\"text-align: right;\">\n",
       "      <th></th>\n",
       "      <th>فتره</th>\n",
       "      <th>جاهزة</th>\n",
       "      <th>المستفيد</th>\n",
       "      <th>المحاضر</th>\n",
       "      <th>القاعة</th>\n",
       "      <th>الى</th>\n",
       "      <th>من</th>\n",
       "      <th>الايام</th>\n",
       "      <th>المسجلين</th>\n",
       "      <th>اعلى حد</th>\n",
       "      <th>التسلسل</th>\n",
       "      <th>النشاط</th>\n",
       "      <th>ساعات المقرر</th>\n",
       "      <th>اسم المقرر</th>\n",
       "      <th>المقرر</th>\n",
       "      <th>الشعبة</th>\n",
       "      <th>index</th>\n",
       "    </tr>\n",
       "  </thead>\n",
       "  <tbody>\n",
       "    <tr>\n",
       "      <th>0</th>\n",
       "      <td>12</td>\n",
       "      <td>نعم</td>\n",
       "      <td>44</td>\n",
       "      <td>اسلام خان محمد نضرول</td>\n",
       "      <td>304</td>\n",
       "      <td>11:10 ص</td>\n",
       "      <td>09:45 ص</td>\n",
       "      <td>1</td>\n",
       "      <td>37</td>\n",
       "      <td>50</td>\n",
       "      <td>1</td>\n",
       "      <td>نظري</td>\n",
       "      <td>3</td>\n",
       "      <td>حساب التكامل</td>\n",
       "      <td>MATH115</td>\n",
       "      <td>846</td>\n",
       "      <td>1</td>\n",
       "    </tr>\n",
       "    <tr>\n",
       "      <th>1</th>\n",
       "      <td>12</td>\n",
       "      <td>نعم</td>\n",
       "      <td>44</td>\n",
       "      <td>اسلام خان محمد نضرول</td>\n",
       "      <td>304</td>\n",
       "      <td>09:15 ص</td>\n",
       "      <td>08:00 ص</td>\n",
       "      <td>4</td>\n",
       "      <td>37</td>\n",
       "      <td>50</td>\n",
       "      <td>1</td>\n",
       "      <td>نظري</td>\n",
       "      <td>3</td>\n",
       "      <td>حساب التكامل</td>\n",
       "      <td>MATH115</td>\n",
       "      <td>846</td>\n",
       "      <td>2</td>\n",
       "    </tr>\n",
       "    <tr>\n",
       "      <th>2</th>\n",
       "      <td>12</td>\n",
       "      <td>نعم</td>\n",
       "      <td>44</td>\n",
       "      <td>اسلام خان محمد نضرول</td>\n",
       "      <td>304</td>\n",
       "      <td>09:15 ص</td>\n",
       "      <td>08:00 ص</td>\n",
       "      <td>2 1</td>\n",
       "      <td>43</td>\n",
       "      <td>50</td>\n",
       "      <td>2</td>\n",
       "      <td>نظري</td>\n",
       "      <td>3</td>\n",
       "      <td>حساب التكامل</td>\n",
       "      <td>MATH115</td>\n",
       "      <td>847</td>\n",
       "      <td>3</td>\n",
       "    </tr>\n",
       "  </tbody>\n",
       "</table>\n",
       "</div>"
      ],
      "text/plain": [
       "  فتره جاهزة  المستفيد               المحاضر القاعة      الى       من الايام  \\\n",
       "0   12   نعم        44  اسلام خان محمد نضرول    304  11:10 ص  09:45 ص      1   \n",
       "1   12   نعم        44  اسلام خان محمد نضرول    304  09:15 ص  08:00 ص      4   \n",
       "2   12   نعم        44  اسلام خان محمد نضرول    304  09:15 ص  08:00 ص    2 1   \n",
       "\n",
       "   المسجلين اعلى حد  التسلسل النشاط  ساعات المقرر    اسم المقرر   المقرر  \\\n",
       "0        37      50        1   نظري             3  حساب التكامل  MATH115   \n",
       "1        37      50        1   نظري             3  حساب التكامل  MATH115   \n",
       "2        43      50        2   نظري             3  حساب التكامل  MATH115   \n",
       "\n",
       "   الشعبة  index  \n",
       "0     846      1  \n",
       "1     846      2  \n",
       "2     847      3  "
      ]
     },
     "execution_count": 10,
     "metadata": {},
     "output_type": "execute_result"
    }
   ],
   "source": [
    "df.head(3)"
   ]
  },
  {
   "cell_type": "code",
   "execution_count": 11,
   "metadata": {},
   "outputs": [],
   "source": [
    "count = 0\n",
    "quList = []\n",
    "for i in Qu['سوال']:\n",
    "    for j in trylist:\n",
    "        a = i + \" \" + j\n",
    "        quList.append(a)\n",
    "        # print(a)\n",
    "        count+=1"
   ]
  },
  {
   "cell_type": "code",
   "execution_count": 12,
   "metadata": {},
   "outputs": [
    {
     "data": {
      "text/plain": [
       "['اين', 'قاعة', 'MATH', '115']"
      ]
     },
     "execution_count": 12,
     "metadata": {},
     "output_type": "execute_result"
    }
   ],
   "source": [
    "sen1 = quList[0].split() #taking only the first Question in the list 'اين قاعة'\n",
    "sen1"
   ]
  },
  {
   "cell_type": "code",
   "execution_count": 13,
   "metadata": {},
   "outputs": [],
   "source": [
    "# mode2 = gensim.models.Word2Vec.load('./data/aravec/GoogleNews-vectors-negative300.bin')"
   ]
  },
  {
   "cell_type": "code",
   "execution_count": 19,
   "metadata": {},
   "outputs": [],
   "source": [
    "li = list(df['المقرر'].unique())\n"
   ]
  },
  {
   "cell_type": "code",
   "execution_count": null,
   "metadata": {},
   "outputs": [],
   "source": []
  },
  {
   "cell_type": "code",
   "execution_count": 145,
   "metadata": {},
   "outputs": [
    {
     "name": "stdout",
     "output_type": "stream",
     "text": [
      "['متى', 'اختبار', 'مادة']\n",
      "1\n",
      "  وقت الاختبار في الفتره ['12']\n"
     ]
    }
   ],
   "source": [
    "from scipy.spatial.distance import cosine\n",
    "import nltk\n",
    "\n",
    "#Load AraVec\n",
    "\n",
    "model = gensim.models.Word2Vec.load('./data/aravec/wikipedia_cbow_100')\n",
    "#import Dataset that have synonyms Question about the same thing \n",
    "# A = pd.read_excel('./data/Question.xlsx')\n",
    "#converting the Dataframe into list \n",
    "# docs = \n",
    "# this Example of Question came from the user it also should include the name of class but this is how it should looks after cleaning \n",
    "target = \" متى اختبار مادة MATH115\" \n",
    "#spliting the sentence into words\n",
    "for word in li :\n",
    "    if word in target:\n",
    "        searchItem = word\n",
    "        target = target.replace(word, \"\")\n",
    "\n",
    "maxPer = 0\n",
    "maxSen = []\n",
    "for j in range(len(Qu['سوال'])):\n",
    "    sen1 = Qu['سوال'][j].split() #taking only the first Question in the list 'اين قاعة'\n",
    "    sen2 = target.split()\n",
    "    wordVec1 = 0\n",
    "    for i in range(len(sen1)):\n",
    "        #cleaning the word\n",
    "        try:\n",
    "            word = clean_str(sen1[i])\n",
    "        # adding the vectors of all words\n",
    "            wordVec1 += model.wv[ word]\n",
    "        except:\n",
    "            continue\n",
    "        \n",
    "    wordVec2 = 0\n",
    "    for i in range(len(sen2)):\n",
    "        try:\n",
    "            word = clean_str(sen2[i])\n",
    "            wordVec2 += model.wv[ word]\n",
    "        except:\n",
    "            continue\n",
    "    #finding the cosine similarity of the two sentences \n",
    "    similarity = 1 - cosine(wordVec1, wordVec2)\n",
    "    if similarity > maxPer :\n",
    "        maxPer = similarity\n",
    "        maxSen = sen1\n",
    "        seachLoc = j\n",
    "    # print(similarity)\n",
    "\n",
    "print( maxSen)\n",
    "print( maxPer)\n",
    "\n",
    "if Qu.loc[seachLoc][1] == 1 :\n",
    "    # print(f\"  وقت الاختبار في الفتره {list(df[df['المقرر'] == searchItem]['فتره'].unique())}\")\n",
    "    for i in range(len(df[df['المقرر'] == searchItem]['الشعبة'])):\n",
    "        print(f\" شعبه {df[df['المقرر'] == searchItem]['الشعبة'][i] } في قاعه رقم {df[df['المقرر'] == searchItem]['القاعة'][i]}\")\n",
    "\n",
    "if Qu.loc[seachLoc][1] == 2 :\n",
    "    # print(f\"  وقت الاختبار في الفتره {list(df[df['المقرر'] == searchItem]['فتره'].unique())}\")\n",
    "    print(f\"يدرسها {list(df[df['المقرر'] == searchItem]['المحاضر'].unique())}\")\n",
    "\n",
    "if Qu.loc[seachLoc][1] == 3 :\n",
    "    # print(f\"  وقت الاختبار في الفتره {list(df[df['المقرر'] == searchItem]['فتره'].unique())}\")\n",
    "    for i in range(len(df[df['المقرر'] == searchItem]['الشعبة'])):\n",
    "        print(f\" شعبه {df[df['المقرر'] == searchItem]['الشعبة'][i] } تبدا من {df[df['المقرر'] == searchItem]['من'][i]} الى {df[df['المقرر'] == searchItem]['الى'][i]}\")\n",
    "if Qu.loc[seachLoc][1] == 4 :\n",
    "    print(f\"  وقت الاختبار في الفتره {list(df[df['المقرر'] == searchItem]['فتره'].unique())}\")\n"
   ]
  },
  {
   "cell_type": "code",
   "execution_count": 146,
   "metadata": {},
   "outputs": [
    {
     "name": "stdout",
     "output_type": "stream",
     "text": [
      "  وقت الاختبار في الفتره ['12']\n"
     ]
    }
   ],
   "source": [
    "#متى اختبار مادة\n",
    "\n",
    "if Qu.loc[seachLoc][1] == 4 :\n",
    "    print(f\"  وقت الاختبار في الفتره {list(df[df['المقرر'] == searchItem]['فتره'].unique())}\")"
   ]
  },
  {
   "cell_type": "code",
   "execution_count": 144,
   "metadata": {},
   "outputs": [
    {
     "name": "stdout",
     "output_type": "stream",
     "text": [
      " شعبه 846 تبدا من 09:45 ص الى 11:10 ص\n",
      " شعبه 846 تبدا من 08:00 ص الى 09:15 ص\n",
      " شعبه 847 تبدا من 08:00 ص الى 09:15 ص\n",
      " شعبه 848 تبدا من 12:00 م الى 01:15 م\n",
      " شعبه 848 تبدا من 11:30 ص الى 12:45 م\n",
      " شعبه 2278 تبدا من 09:45 ص الى 11:10 ص\n",
      " شعبه 2278 تبدا من 08:00 ص الى 09:15 ص\n",
      " شعبه 2279 تبدا من 08:00 ص الى 09:15 ص\n",
      " شعبه 2280 تبدا من 11:30 ص الى 12:45 م\n",
      " شعبه 2280 تبدا من 12:00 م الى 01:15 م\n"
     ]
    }
   ],
   "source": [
    "# متى محاضره \n",
    "if Qu.loc[seachLoc][1] == 3 :\n",
    "    # print(f\"  وقت الاختبار في الفتره {list(df[df['المقرر'] == searchItem]['فتره'].unique())}\")\n",
    "    for i in range(len(df[df['المقرر'] == searchItem]['الشعبة'])):\n",
    "        print(f\" شعبه {df[df['المقرر'] == searchItem]['الشعبة'][i] } تبدا من {df[df['المقرر'] == searchItem]['من'][i]} الى {df[df['المقرر'] == searchItem]['الى'][i]}\")"
   ]
  },
  {
   "cell_type": "code",
   "execution_count": 142,
   "metadata": {},
   "outputs": [
    {
     "name": "stdout",
     "output_type": "stream",
     "text": [
      "يدرسها ['اسلام خان محمد نضرول', 'لم يحدد من الكلية']\n"
     ]
    }
   ],
   "source": [
    "#من هو دكتور\n",
    "if Qu.loc[seachLoc][1] == 2 :\n",
    "    # print(f\"  وقت الاختبار في الفتره {list(df[df['المقرر'] == searchItem]['فتره'].unique())}\")\n",
    "    print(f\"يدرسها {list(df[df['المقرر'] == searchItem]['المحاضر'].unique())}\")"
   ]
  },
  {
   "cell_type": "code",
   "execution_count": 140,
   "metadata": {},
   "outputs": [
    {
     "name": "stdout",
     "output_type": "stream",
     "text": [
      " شعبه 846 في قاعه رقم 304\n",
      " شعبه 846 في قاعه رقم 304\n",
      " شعبه 847 في قاعه رقم 304\n",
      " شعبه 848 في قاعه رقم 302\n",
      " شعبه 848 في قاعه رقم 302\n",
      " شعبه 2278 في قاعه رقم لم تحدد من الكلية\n",
      " شعبه 2278 في قاعه رقم لم تحدد من الكلية\n",
      " شعبه 2279 في قاعه رقم لم تحدد من الكلية\n",
      " شعبه 2280 في قاعه رقم لم تحدد من الكلية\n",
      " شعبه 2280 في قاعه رقم لم تحدد من الكلية\n"
     ]
    }
   ],
   "source": [
    "#اين مكان القاعه \n",
    "if Qu.loc[seachLoc][1] == 1 :\n",
    "    # print(f\"  وقت الاختبار في الفتره {list(df[df['المقرر'] == searchItem]['فتره'].unique())}\")\n",
    "    for i in range(len(df[df['المقرر'] == searchItem]['الشعبة'])):\n",
    "        print(f\" شعبه {df[df['المقرر'] == searchItem]['الشعبة'][i] } في قاعه رقم {df[df['المقرر'] == searchItem]['القاعة'][i]}\")"
   ]
  }
 ],
 "metadata": {
  "kernelspec": {
   "display_name": "Python 3.9.12 ('base')",
   "language": "python",
   "name": "python3"
  },
  "language_info": {
   "codemirror_mode": {
    "name": "ipython",
    "version": 3
   },
   "file_extension": ".py",
   "mimetype": "text/x-python",
   "name": "python",
   "nbconvert_exporter": "python",
   "pygments_lexer": "ipython3",
   "version": "3.9.12"
  },
  "orig_nbformat": 4,
  "vscode": {
   "interpreter": {
    "hash": "1ea3bb07a0ce5ed1cb811e695f7f6d18f9bc93ade77baa1d4759f2cca0adc160"
   }
  }
 },
 "nbformat": 4,
 "nbformat_minor": 2
}
