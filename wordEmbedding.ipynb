{
 "cells": [
  {
   "cell_type": "markdown",
   "metadata": {},
   "source": [
    "# Install/Load the required modules\n"
   ]
  },
  {
   "cell_type": "code",
   "execution_count": 1,
   "metadata": {},
   "outputs": [],
   "source": [
    "import tensorflow as tf\n",
    "from keras.preprocessing.text import Tokenizer\n",
    "from keras_preprocessing.sequence import pad_sequences\n",
    "from numpy import array\n",
    "import gensim\n",
    "from gensim.models import KeyedVectors\n",
    "from gensim.models import word2vec"
   ]
  },
  {
   "cell_type": "code",
   "execution_count": 2,
   "metadata": {},
   "outputs": [],
   "source": [
    "import pandas as pd\n",
    "import numpy as np"
   ]
  },
  {
   "cell_type": "code",
   "execution_count": 3,
   "metadata": {},
   "outputs": [],
   "source": [
    "import gensim\n",
    "import re\n",
    "import spacy\n",
    "\n",
    "# Clean/Normalize Arabic Text\n",
    "def clean_str(text):\n",
    "    search = [\"أ\",\"إ\",\"آ\",\"ة\",\"_\",\"-\",\"/\",\".\",\"،\",\" و \",\" يا \",'\"',\"ـ\",\"'\",\"ى\",\"\\\\\",'\\n', '\\t','\"','?','؟','!']\n",
    "    replace = [\"ا\",\"ا\",\"ا\",\"ه\",\" \",\" \",\"\",\"\",\"\",\" و\",\" يا\",\"\",\"\",\"\",\"ي\",\"\",' ', ' ',' ',' ? ',' ؟ ',' ! ']\n",
    "    \n",
    "    #remove tashkeel\n",
    "    p_tashkeel = re.compile(r'[\\u0617-\\u061A\\u064B-\\u0652]')\n",
    "    text = re.sub(p_tashkeel,\"\", text)\n",
    "    \n",
    "    #remove longation\n",
    "    p_longation = re.compile(r'(.)\\1+')\n",
    "    subst = r\"\\1\\1\"\n",
    "    text = re.sub(p_longation, subst, text)\n",
    "    \n",
    "    text = text.replace('وو', 'و')\n",
    "    text = text.replace('يي', 'ي')\n",
    "    text = text.replace('اا', 'ا')\n",
    "    \n",
    "    for i in range(0, len(search)):\n",
    "        text = text.replace(search[i], replace[i])\n",
    "    \n",
    "    #trim    \n",
    "    text = text.strip()\n",
    "\n",
    "    return text"
   ]
  },
  {
   "cell_type": "markdown",
   "metadata": {},
   "source": [
    "# similarity of two sentences"
   ]
  },
  {
   "cell_type": "code",
   "execution_count": 43,
   "metadata": {},
   "outputs": [
    {
     "data": {
      "text/plain": [
       "['اين قاعة',\n",
       " 'وين القاعه',\n",
       " 'اين اجد القاعه ',\n",
       " 'اين مكان القاعه ',\n",
       " 'اين هي القاعه ']"
      ]
     },
     "execution_count": 43,
     "metadata": {},
     "output_type": "execute_result"
    }
   ],
   "source": [
    "docs"
   ]
  },
  {
   "cell_type": "code",
   "execution_count": 45,
   "metadata": {},
   "outputs": [
    {
     "name": "stdout",
     "output_type": "stream",
     "text": [
      "0.3563941717147827\n"
     ]
    }
   ],
   "source": [
    "from scipy.spatial.distance import cosine\n",
    "import nltk\n",
    "\n",
    "#Load AraVec\n",
    "\n",
    "model = gensim.models.Word2Vec.load('./data/aravec/wikipedia_cbow_100')\n",
    "#import Dataset that have synonyms Question about the same thing \n",
    "A = pd.read_excel('./data/Question.xlsx')\n",
    "#converting the Dataframe into list \n",
    "docs = list(A['سوال'])\n",
    "# this Example of Question came from the user it also should include the name of class but this is how it should looks after cleaning \n",
    "target = \"من وين القاعه \" \n",
    "#spliting the sentence into words\n",
    "sen1 = docs[0].split() #taking only the first Question in the list 'اين قاعة'\n",
    "sen2 = target.split()\n",
    "wordVec1 = 0\n",
    "for i in range(len(sen1)):\n",
    "    #cleaning the word\n",
    "    word = clean_str(sen1[i])\n",
    "    # adding the vectors of all words\n",
    "    wordVec1 += model.wv[ word]\n",
    "wordVec2 = 0\n",
    "for i in range(len(sen2)):\n",
    "    word = clean_str(sen2[i])\n",
    "    wordVec2 += model.wv[ word]\n",
    "#finding the cosine similarity of the two sentences \n",
    "similarity = 1 - cosine(wordVec1, wordVec2)\n",
    "print(similarity)"
   ]
  }
 ],
 "metadata": {
  "kernelspec": {
   "display_name": "Python 3.9.12 ('base')",
   "language": "python",
   "name": "python3"
  },
  "language_info": {
   "codemirror_mode": {
    "name": "ipython",
    "version": 3
   },
   "file_extension": ".py",
   "mimetype": "text/x-python",
   "name": "python",
   "nbconvert_exporter": "python",
   "pygments_lexer": "ipython3",
   "version": "3.9.12"
  },
  "orig_nbformat": 4,
  "vscode": {
   "interpreter": {
    "hash": "1ea3bb07a0ce5ed1cb811e695f7f6d18f9bc93ade77baa1d4759f2cca0adc160"
   }
  }
 },
 "nbformat": 4,
 "nbformat_minor": 2
}
