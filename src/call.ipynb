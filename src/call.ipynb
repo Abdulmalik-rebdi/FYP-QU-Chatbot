{
 "cells": [
  {
   "cell_type": "code",
   "execution_count": 30,
   "metadata": {},
   "outputs": [],
   "source": [
    "import pandas as pd\n",
    "import numpy as np"
   ]
  },
  {
   "cell_type": "code",
   "execution_count": 50,
   "metadata": {},
   "outputs": [],
   "source": [
    "# from pandas import read_csv\n",
    "\n",
    "\n",
    "dfc = pd.read_csv('../data/class.csv')\n",
    "dfs = pd.read_csv('../data/StudentGPA.csv')"
   ]
  },
  {
   "cell_type": "code",
   "execution_count": 67,
   "metadata": {},
   "outputs": [
    {
     "name": "stdout",
     "output_type": "stream",
     "text": [
      "<class 'pandas.core.frame.DataFrame'>\n",
      "RangeIndex: 284 entries, 0 to 283\n",
      "Data columns (total 16 columns):\n",
      " #   Column        Non-Null Count  Dtype  \n",
      "---  ------        --------------  -----  \n",
      " 0   فتره          143 non-null    float64\n",
      " 1   جاهزة         284 non-null    object \n",
      " 2   المستفيد      284 non-null    int64  \n",
      " 3   المحاضر       284 non-null    object \n",
      " 4   القاعة        284 non-null    object \n",
      " 5   الى           284 non-null    object \n",
      " 6   من            284 non-null    object \n",
      " 7   الايام        284 non-null    object \n",
      " 8   المسجلين      284 non-null    int64  \n",
      " 9   اعلى حد       284 non-null    int64  \n",
      " 10  التسلسل       284 non-null    int64  \n",
      " 11  النشاط        284 non-null    object \n",
      " 12  ساعات المقرر  284 non-null    int64  \n",
      " 13  اسم المقرر    284 non-null    object \n",
      " 14  المقرر        284 non-null    object \n",
      " 15  الشعبة        284 non-null    int64  \n",
      "dtypes: float64(1), int64(6), object(9)\n",
      "memory usage: 35.6+ KB\n"
     ]
    }
   ],
   "source": [
    "dfc.info()"
   ]
  },
  {
   "cell_type": "code",
   "execution_count": 65,
   "metadata": {},
   "outputs": [
    {
     "data": {
      "text/html": [
       "<div>\n",
       "<style scoped>\n",
       "    .dataframe tbody tr th:only-of-type {\n",
       "        vertical-align: middle;\n",
       "    }\n",
       "\n",
       "    .dataframe tbody tr th {\n",
       "        vertical-align: top;\n",
       "    }\n",
       "\n",
       "    .dataframe thead th {\n",
       "        text-align: right;\n",
       "    }\n",
       "</style>\n",
       "<table border=\"1\" class=\"dataframe\">\n",
       "  <thead>\n",
       "    <tr style=\"text-align: right;\">\n",
       "      <th></th>\n",
       "      <th>فتره</th>\n",
       "      <th>جاهزة</th>\n",
       "      <th>المستفيد</th>\n",
       "      <th>المحاضر</th>\n",
       "      <th>القاعة</th>\n",
       "      <th>الى</th>\n",
       "      <th>من</th>\n",
       "      <th>الايام</th>\n",
       "      <th>المسجلين</th>\n",
       "      <th>اعلى حد</th>\n",
       "      <th>التسلسل</th>\n",
       "      <th>النشاط</th>\n",
       "      <th>ساعات المقرر</th>\n",
       "      <th>اسم المقرر</th>\n",
       "      <th>المقرر</th>\n",
       "      <th>الشعبة</th>\n",
       "    </tr>\n",
       "  </thead>\n",
       "  <tbody>\n",
       "    <tr>\n",
       "      <th>109</th>\n",
       "      <td>NaN</td>\n",
       "      <td>نعم</td>\n",
       "      <td>44</td>\n",
       "      <td>مراد عبده رسام قاسم</td>\n",
       "      <td>lab-222</td>\n",
       "      <td>11:25 ص</td>\n",
       "      <td>09:45 ص</td>\n",
       "      <td>5</td>\n",
       "      <td>19</td>\n",
       "      <td>40</td>\n",
       "      <td>1</td>\n",
       "      <td>عملي</td>\n",
       "      <td>3</td>\n",
       "      <td>علم البيانات لإنترنت الاشياء</td>\n",
       "      <td>IT  351</td>\n",
       "      <td>812</td>\n",
       "    </tr>\n",
       "  </tbody>\n",
       "</table>\n",
       "</div>"
      ],
      "text/plain": [
       "     فتره جاهزة  المستفيد              المحاضر   القاعة      الى       من  \\\n",
       "109   NaN   نعم        44  مراد عبده رسام قاسم  lab-222  11:25 ص  09:45 ص   \n",
       "\n",
       "    الايام  المسجلين  اعلى حد  التسلسل النشاط  ساعات المقرر  \\\n",
       "109      5        19       40        1   عملي             3   \n",
       "\n",
       "                       اسم المقرر   المقرر  الشعبة  \n",
       "109  علم البيانات لإنترنت الاشياء  IT  351     812  "
      ]
     },
     "execution_count": 65,
     "metadata": {},
     "output_type": "execute_result"
    }
   ],
   "source": [
    "dfc[dfc['الشعبة']==812]"
   ]
  },
  {
   "cell_type": "code",
   "execution_count": 28,
   "metadata": {},
   "outputs": [],
   "source": [
    "dfc = dfc.replace(r'NaN', np.NaN)"
   ]
  },
  {
   "cell_type": "code",
   "execution_count": 29,
   "metadata": {},
   "outputs": [],
   "source": [
    "# the number of the class and where it is"
   ]
  },
  {
   "cell_type": "code",
   "execution_count": 128,
   "metadata": {},
   "outputs": [
    {
     "name": "stdout",
     "output_type": "stream",
     "text": [
      "فيه 2 شعب  [810, 811]\n",
      " الشعبة 810 يوم 2 تبدا 12:00 م وتنتهي 01:40 م في القاعة 201\n",
      " الشعبة 811 يوم 1 تبدا 04:00 م وتنتهي 05:50 م في القاعة 206\n"
     ]
    }
   ],
   "source": [
    "#we can fix this by add new column and seperate the number of class EX(351) and IT , CS (had issue with spacing)\n",
    "x = 'IT  351'\n",
    "df = dfc[(dfc['المقرر'] ==x) &(dfc['النشاط'] =='نظري')]\n",
    "# print('there are 'list(df['الشعبة']))\n",
    "print(f'فيه {len(df) } شعب  {list(df.الشعبة)}')\n",
    "for ind , row in df.iterrows() :\n",
    "    print(f' الشعبة {row.الشعبة} يوم {row.الايام} تبدا {row.من} وتنتهي {row.الى} في القاعة {row.القاعة}')\n",
    "# later on i will change it to function and replace the print to return \n",
    "    "
   ]
  },
  {
   "cell_type": "code",
   "execution_count": 130,
   "metadata": {},
   "outputs": [],
   "source": [
    "# Tell The name of the instructor\n"
   ]
  },
  {
   "cell_type": "code",
   "execution_count": 131,
   "metadata": {},
   "outputs": [
    {
     "name": "stdout",
     "output_type": "stream",
     "text": [
      "فيه 2 شعب  [810, 811]\n",
      " الشعبة 810 محاضرها ريحان الله خان عصمت الله خان\n",
      " الشعبة 811 محاضرها ريحان الله خان عصمت الله خان\n"
     ]
    }
   ],
   "source": [
    "x = 'IT  351'\n",
    "df = dfc[(dfc['المقرر'] ==x) &(dfc['النشاط'] =='نظري')]\n",
    "print(f'فيه {len(df) } شعب  {list(df.الشعبة)}')\n",
    "for ind , row in df.iterrows() :\n",
    "    print(f' الشعبة {row.الشعبة} محاضرها {row.المحاضر}')\n"
   ]
  },
  {
   "cell_type": "code",
   "execution_count": 139,
   "metadata": {},
   "outputs": [
    {
     "data": {
      "text/plain": [
       "23.0"
      ]
     },
     "execution_count": 139,
     "metadata": {},
     "output_type": "execute_result"
    }
   ],
   "source": []
  },
  {
   "cell_type": "code",
   "execution_count": 141,
   "metadata": {},
   "outputs": [
    {
     "name": "stdout",
     "output_type": "stream",
     "text": [
      "اختبار الماده سيمون في الفتره23.0\n"
     ]
    }
   ],
   "source": [
    "# tell the date of the exam \n",
    "x = 'IT  351'\n",
    "df = dfc[(dfc['المقرر'] ==x) &(dfc['النشاط'] =='نظري')]\n",
    "x = list(df['فتره'])[0]\n",
    "print(f\"اختبار الماده سيمون في الفتره{x}\")"
   ]
  },
  {
   "cell_type": "code",
   "execution_count": null,
   "metadata": {},
   "outputs": [],
   "source": []
  }
 ],
 "metadata": {
  "kernelspec": {
   "display_name": "Python 3.9.12 ('base')",
   "language": "python",
   "name": "python3"
  },
  "language_info": {
   "codemirror_mode": {
    "name": "ipython",
    "version": 3
   },
   "file_extension": ".py",
   "mimetype": "text/x-python",
   "name": "python",
   "nbconvert_exporter": "python",
   "pygments_lexer": "ipython3",
   "version": "3.9.12"
  },
  "orig_nbformat": 4,
  "vscode": {
   "interpreter": {
    "hash": "1ea3bb07a0ce5ed1cb811e695f7f6d18f9bc93ade77baa1d4759f2cca0adc160"
   }
  }
 },
 "nbformat": 4,
 "nbformat_minor": 2
}
